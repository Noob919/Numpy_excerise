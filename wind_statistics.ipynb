{
 "cells": [
  {
   "cell_type": "code",
   "execution_count": 7,
   "metadata": {},
   "outputs": [],
   "source": [
    "import numpy as np\n",
    "from numpy import loadtxt"
   ]
  },
  {
   "cell_type": "code",
   "execution_count": 10,
   "metadata": {},
   "outputs": [
    {
     "data": {
      "text/plain": [
       "(6574, 15)"
      ]
     },
     "execution_count": 10,
     "metadata": {},
     "output_type": "execute_result"
    }
   ],
   "source": [
    "data = loadtxt('wind_data.txt')\n",
    "data.shape"
   ]
  },
  {
   "cell_type": "code",
   "execution_count": 13,
   "metadata": {},
   "outputs": [],
   "source": [
    "dates = data[:,:3]\n",
    "winds = data[:,3:]"
   ]
  },
  {
   "cell_type": "code",
   "execution_count": 19,
   "metadata": {},
   "outputs": [
    {
     "name": "stdout",
     "output_type": "stream",
     "text": [
      "Minimum Value for this whole data is 0.0\n",
      "Maximum Value for this whole data is  42.54\n",
      "Standard deviation for this whole data is 5.603840181095793\n",
      "Mean for this whole data is 10.22837377040868\n"
     ]
    }
   ],
   "source": [
    "print(\"Minimum Value for this whole data is\",winds.min())\n",
    "print(\"Maximum Value for this whole data is \",winds.max())\n",
    "print(\"Standard deviation for this whole data is\",winds.std())\n",
    "print(\"Mean for this whole data is\",winds.mean())"
   ]
  },
  {
   "cell_type": "code",
   "execution_count": null,
   "metadata": {},
   "outputs": [],
   "source": []
  }
 ],
 "metadata": {
  "interpreter": {
   "hash": "5b2b4e04d91a8a33f7cd02ca845e7d9e882e20dd17c9cd10d60c816012fe5b22"
  },
  "kernelspec": {
   "display_name": "Python 3.8.1 32-bit",
   "name": "python3"
  },
  "language_info": {
   "codemirror_mode": {
    "name": "ipython",
    "version": 3
   },
   "file_extension": ".py",
   "mimetype": "text/x-python",
   "name": "python",
   "nbconvert_exporter": "python",
   "pygments_lexer": "ipython3",
   "version": "3.8.1"
  },
  "orig_nbformat": 4
 },
 "nbformat": 4,
 "nbformat_minor": 2
}
