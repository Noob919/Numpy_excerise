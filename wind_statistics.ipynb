{
 "cells": [
  {
   "cell_type": "code",
   "execution_count": 8,
   "metadata": {},
   "outputs": [],
   "source": [
    "import numpy as np\n",
    "from numpy import loadtxt"
   ]
  },
  {
   "cell_type": "code",
   "execution_count": 9,
   "metadata": {},
   "outputs": [
    {
     "data": {
      "text/plain": [
       "(6574, 15)"
      ]
     },
     "execution_count": 9,
     "metadata": {},
     "output_type": "execute_result"
    }
   ],
   "source": [
    "data = loadtxt('wind_data.txt')\n",
    "data.shape"
   ]
  },
  {
   "cell_type": "code",
   "execution_count": 10,
   "metadata": {},
   "outputs": [],
   "source": [
    "dates = data[:,:3]\n",
    "winds = data[:,3:]"
   ]
  },
  {
   "cell_type": "markdown",
   "metadata": {},
   "source": [
    "Calculate the min, max and mean windspeeds and standard deviation of the windspeeds over all the locations and all the times (a single set of numbers for the entire dataset)."
   ]
  },
  {
   "cell_type": "code",
   "execution_count": 11,
   "metadata": {},
   "outputs": [
    {
     "name": "stdout",
     "output_type": "stream",
     "text": [
      "Minimum Value for this whole data is 0.0\n",
      "Maximum Value for this whole data is  42.54\n",
      "Standard deviation for this whole data is 5.603840181095793\n",
      "Mean for this whole data is 10.22837377040868\n"
     ]
    }
   ],
   "source": [
    "print(\"Minimum Value for this whole data is\",winds.min())\n",
    "print(\"Maximum Value for this whole data is \",winds.max())\n",
    "print(\"Standard deviation for this whole data is\",winds.std())\n",
    "print(\"Mean for this whole data is\",winds.mean())"
   ]
  },
  {
   "cell_type": "markdown",
   "metadata": {},
   "source": [
    "Calculate the min, max and mean windspeeds and standard deviations of the windspeeds at each location over all the days (a different set of numbers for each location)"
   ]
  },
  {
   "cell_type": "code",
   "execution_count": 15,
   "metadata": {},
   "outputs": [
    {
     "name": "stdout",
     "output_type": "stream",
     "text": [
      "Minimum Value for this for each location over all the days are [0.67 0.21 1.5  0.   0.13 0.   0.   0.   0.   0.04 0.13 0.67]\n",
      "Maximum Value for this for each location over all the days are  [35.8  33.37 33.84 28.46 37.54 26.16 30.37 31.08 25.88 28.21 42.38 42.54]\n",
      "Standard deviation for this for each location over all the days are [5.61918301 5.26820081 5.00738377 3.60513309 4.93536333 3.96838126\n",
      " 4.97689374 4.49865783 4.16746101 4.50327222 5.83459319 6.69734719]\n",
      "Mean for this for each location over all the days are [12.36371463 10.64644813 11.66010344  6.30627472 10.45688013  7.09225434\n",
      "  9.7968345   8.49442044  8.49581838  8.70726803 13.121007   15.59946152]\n"
     ]
    }
   ],
   "source": [
    "print(\"Minimum Value for this for each location over all the days are\",winds.min(axis = 0))\n",
    "print(\"Maximum Value for this for each location over all the days are \",winds.max(axis = 0))\n",
    "print(\"Standard deviation for this for each location over all the days are\",winds.std(axis = 0))\n",
    "print(\"Mean for this for each location over all the days are\",winds.mean(axis = 0))"
   ]
  },
  {
   "cell_type": "markdown",
   "metadata": {},
   "source": [
    " Calculate the min, max and mean windspeed and standard deviations of the windspeeds across all the locations at each day (a different set of numbers for each day)"
   ]
  },
  {
   "cell_type": "code",
   "execution_count": 19,
   "metadata": {},
   "outputs": [
    {
     "name": "stdout",
     "output_type": "stream",
     "text": [
      "Minimum Value for this for each locations at each  day are [9.29 6.5  6.17 ... 8.71 9.13 9.59]\n",
      "Maximum Value for this for each locations at each  day are  [18.5  17.54 18.5  ... 29.58 28.79 27.29]\n",
      "Standard deviation for this for each locations at each  day are [2.5773188  3.28972854 3.50543348 ... 5.51175108 5.30456427 5.45971172]\n",
      "Mean for this for each location over all the days are [13.09666667 11.79833333 11.34166667 ... 14.89       15.3675\n",
      " 15.4025    ]\n"
     ]
    }
   ],
   "source": [
    "print(\"Minimum Value for this for each locations at each  day are\",winds.min(axis = 1))\n",
    "print(\"Maximum Value for this for each locations at each  day are \",winds.max(axis = 1))\n",
    "print(\"Standard deviation for this for each locations at each  day are\",winds.std(axis = 1))\n",
    "print(\"Mean for this for each location over all the days are\",winds.mean(axis = 1))"
   ]
  },
  {
   "cell_type": "markdown",
   "metadata": {},
   "source": [
    "Find the location which has the greatest windspeed on each day (an integer column number for each day)."
   ]
  },
  {
   "cell_type": "code",
   "execution_count": 40,
   "metadata": {},
   "outputs": [
    {
     "data": {
      "text/plain": [
       "array([10, 10,  0, ..., 11, 11,  2], dtype=int32)"
      ]
     },
     "execution_count": 40,
     "metadata": {},
     "output_type": "execute_result"
    }
   ],
   "source": [
    "winds.argmax(axis=1) "
   ]
  },
  {
   "cell_type": "markdown",
   "metadata": {},
   "source": [
    "Find the year, month and day on which the greatest windspeed was recorded."
   ]
  },
  {
   "cell_type": "code",
   "execution_count": 47,
   "metadata": {},
   "outputs": [
    {
     "name": "stdout",
     "output_type": "stream",
     "text": [
      "42.54\n",
      "25943\n"
     ]
    }
   ],
   "source": [
    "print(winds.max())\n",
    "print(winds.argmax())"
   ]
  },
  {
   "cell_type": "code",
   "execution_count": null,
   "metadata": {},
   "outputs": [],
   "source": []
  },
  {
   "cell_type": "code",
   "execution_count": null,
   "metadata": {},
   "outputs": [],
   "source": []
  }
 ],
 "metadata": {
  "interpreter": {
   "hash": "5b2b4e04d91a8a33f7cd02ca845e7d9e882e20dd17c9cd10d60c816012fe5b22"
  },
  "kernelspec": {
   "display_name": "Python 3.8.1 32-bit",
   "name": "python3"
  },
  "language_info": {
   "codemirror_mode": {
    "name": "ipython",
    "version": 3
   },
   "file_extension": ".py",
   "mimetype": "text/x-python",
   "name": "python",
   "nbconvert_exporter": "python",
   "pygments_lexer": "ipython3",
   "version": "3.8.1"
  },
  "orig_nbformat": 4
 },
 "nbformat": 4,
 "nbformat_minor": 2
}
