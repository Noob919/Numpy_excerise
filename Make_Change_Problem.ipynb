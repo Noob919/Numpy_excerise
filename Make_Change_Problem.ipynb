{
  "cells": [
    {
      "cell_type": "markdown",
      "metadata": {
        "id": "view-in-github",
        "colab_type": "text"
      },
      "source": [
        "<a href=\"https://colab.research.google.com/github/Noob919/Numpy_excerise/blob/main/Make_Change_Problem.ipynb\" target=\"_parent\"><img src=\"https://colab.research.google.com/assets/colab-badge.svg\" alt=\"Open In Colab\"/></a>"
      ]
    },
    {
      "cell_type": "markdown",
      "source": [
        "## Implementation to find all the solution"
      ],
      "metadata": {
        "id": "8VZiOK95Xw4v"
      }
    },
    {
      "cell_type": "code",
      "source": [
        "def make_change_all_solutions(coins, amount):\n",
        "    coins.sort(reverse=True)\n",
        "    solutions = []\n",
        "\n",
        "    def find_combinations(remaining_amount, current_combination):\n",
        "        if remaining_amount == 0:\n",
        "            solutions.append(list(current_combination))\n",
        "            return\n",
        "\n",
        "        if remaining_amount < 0:\n",
        "            return\n",
        "\n",
        "        for coin in coins:\n",
        "            if coin <= remaining_amount:\n",
        "                current_combination.append(coin)\n",
        "                find_combinations(remaining_amount - coin, current_combination)\n",
        "                current_combination.pop()\n",
        "\n",
        "    find_combinations(amount, [])\n",
        "\n",
        "    return solutions"
      ],
      "metadata": {
        "id": "kBTxJMIEXwGo"
      },
      "execution_count": 7,
      "outputs": []
    },
    {
      "cell_type": "markdown",
      "source": [
        "## Implementation of Greddy Algorithm"
      ],
      "metadata": {
        "id": "Wzg0DvPtWDPO"
      }
    },
    {
      "cell_type": "code",
      "execution_count": 6,
      "metadata": {
        "id": "zNKQsXmAl8ys"
      },
      "outputs": [],
      "source": [
        "def make_change_greedy(coins, amount):\n",
        "    coins.sort(reverse=True)\n",
        "    change = []\n",
        "\n",
        "    for coin in coins:\n",
        "        while amount >= coin:\n",
        "            change.append(coin)\n",
        "            amount -= coin\n",
        "\n",
        "    return change\n"
      ]
    },
    {
      "cell_type": "markdown",
      "source": [
        "# Implementation of Stop at First Best Solution"
      ],
      "metadata": {
        "id": "KNBTAOqUX9mj"
      }
    },
    {
      "cell_type": "code",
      "source": [
        "def make_change_stop_at_first(coins, amount):\n",
        "    coins.sort(reverse=True)\n",
        "\n",
        "    def find_combination(remaining_amount, current_combination):\n",
        "        if remaining_amount == 0:\n",
        "            return list(current_combination)\n",
        "\n",
        "        if remaining_amount < 0:\n",
        "            return None\n",
        "\n",
        "        for coin in coins:\n",
        "            if coin <= remaining_amount:\n",
        "                current_combination.append(coin)\n",
        "                result = find_combination(remaining_amount - coin, current_combination)\n",
        "                current_combination.pop()\n",
        "                if result is not None:\n",
        "                    return result\n",
        "\n",
        "    return find_combination(amount, [])"
      ],
      "metadata": {
        "id": "pa-nzfPyXsOt"
      },
      "execution_count": null,
      "outputs": []
    },
    {
      "cell_type": "markdown",
      "source": [
        "## Implementation of Recursive Algorithm"
      ],
      "metadata": {
        "id": "YiJyPl9sYI3f"
      }
    },
    {
      "cell_type": "code",
      "source": [
        "def make_change_recursive(coins, amount):\n",
        "    coins.sort(reverse=True)\n",
        "\n",
        "    def find_combination(remaining_amount):\n",
        "        if remaining_amount == 0:\n",
        "            return []\n",
        "\n",
        "        if remaining_amount < 0:\n",
        "            return None\n",
        "\n",
        "        for coin in coins:\n",
        "            if coin <= remaining_amount:\n",
        "                result = find_combination(remaining_amount - coin)\n",
        "                if result is not None:\n",
        "                    return result + [coin]\n",
        "\n",
        "    return find_combination(amount)"
      ],
      "metadata": {
        "id": "FdYdl5nEX5ME"
      },
      "execution_count": 8,
      "outputs": []
    },
    {
      "cell_type": "markdown",
      "source": [
        "## Implementation of Louage Algorithm"
      ],
      "metadata": {
        "id": "3onbkZ8JYTfY"
      }
    },
    {
      "cell_type": "code",
      "source": [
        "def make_change_louage(coins, amount):\n",
        "    # Convert the amount to cents as an integer\n",
        "    amount = int(amount * 100)\n",
        "\n",
        "    # Initialize a table to store the minimum number of coins for each amount from 0 to amount.\n",
        "    dp = [float('inf')] * (amount + 1)\n",
        "\n",
        "    # Zero coins are needed to make change for 0.\n",
        "    dp[0] = 0\n",
        "\n",
        "    for coin in coins:\n",
        "        for i in range(int(coin * 100), amount + 1):  # Convert coin to cents as an integer\n",
        "            # Update dp[i] if a smaller number of coins is found.\n",
        "            dp[i] = min(dp[i], dp[i - int(coin * 100)] + 1)  # Convert coin to cents as an integer\n",
        "\n",
        "    # Reconstruct the combination of coins.\n",
        "    min_coins = dp[amount]\n",
        "    if min_coins == float('inf'):\n",
        "        return None  # No valid combination found.\n",
        "\n",
        "    combination = []\n",
        "    remaining = amount\n",
        "    while remaining > 0:\n",
        "        for coin in coins:\n",
        "            if remaining >= int(coin * 100) and dp[remaining] == dp[remaining - int(coin * 100)] + 1:\n",
        "                combination.append(coin)\n",
        "                remaining -= int(coin * 100)\n",
        "                break\n",
        "\n",
        "    # Convert the combination back to euros\n",
        "    combination = [x / 100 for x in combination]\n",
        "\n",
        "    return combination"
      ],
      "metadata": {
        "id": "Rugx0-bbYSZZ"
      },
      "execution_count": null,
      "outputs": []
    },
    {
      "cell_type": "markdown",
      "source": [
        "## Results"
      ],
      "metadata": {
        "id": "PhGAGH4eYY-R"
      }
    },
    {
      "cell_type": "code",
      "execution_count": 5,
      "metadata": {
        "colab": {
          "base_uri": "https://localhost:8080/"
        },
        "id": "VlfqSzNul_Xw",
        "outputId": "5d33d4a9-ebc8-421c-e15b-e768f3815b21"
      },
      "outputs": [
        {
          "output_type": "stream",
          "name": "stdout",
          "text": [
            "Greedy: [5, 5, 2, 0.2, 0.1]\n",
            "Stop at First Good Solution: [5, 5, 0.5, 0.2, 0.2, 0.2, 0.2, 0.2, 0.2, 0.1, 0.1, 0.1, 0.05, 0.05, 0.05, 0.2]\n",
            "Recursive: [0.2, 0.05, 0.05, 0.05, 0.1, 0.1, 0.1, 0.2, 0.2, 0.2, 0.2, 0.2, 0.2, 0.5, 5, 5]\n",
            "Louage Algorithm: [0.05, 0.05, 0.02, 0.002, 0.001, 0.0005]\n"
          ]
        }
      ],
      "source": [
        "# Example usage:\n",
        "coins = [5, 2, 1, 0.5, 0.2, 0.1, 0.05]\n",
        "amount = 12.35\n",
        "\n",
        "print(\"Greedy:\", make_change_greedy(coins, amount))\n",
        "#print(\"All Solutions:\", make_change_all_solutions(coins, amount))\n",
        "print(\"Stop at First Good Solution:\", make_change_stop_at_first(coins, amount))\n",
        "print(\"Recursive:\", make_change_recursive(coins, amount))\n",
        "result = make_change_louage(coins, amount)\n",
        "print(\"Louage Algorithm:\", result)"
      ]
    },
    {
      "cell_type": "code",
      "source": [],
      "metadata": {
        "id": "kqXf3icTGrIj"
      },
      "execution_count": null,
      "outputs": []
    }
  ],
  "metadata": {
    "colab": {
      "provenance": [],
      "authorship_tag": "ABX9TyPYhqSk81pKpcqh0Y/btzDO",
      "include_colab_link": true
    },
    "kernelspec": {
      "display_name": "Python 3",
      "name": "python3"
    },
    "language_info": {
      "name": "python"
    }
  },
  "nbformat": 4,
  "nbformat_minor": 0
}