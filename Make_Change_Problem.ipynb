{
  "cells": [
    {
      "cell_type": "markdown",
      "metadata": {
        "id": "view-in-github",
        "colab_type": "text"
      },
      "source": [
        "<a href=\"https://colab.research.google.com/github/Noob919/Numpy_excerise/blob/main/Make_Change_Problem.ipynb\" target=\"_parent\"><img src=\"https://colab.research.google.com/assets/colab-badge.svg\" alt=\"Open In Colab\"/></a>"
      ]
    },
    {
      "cell_type": "markdown",
      "source": [
        "## Implementation to find all the solution"
      ],
      "metadata": {
        "id": "8VZiOK95Xw4v"
      }
    },
    {
      "cell_type": "code",
      "source": [
        "def make_change_all_solutions(coins, amount):\n",
        "    coins.sort(reverse=True)\n",
        "    solutions = []\n",
        "\n",
        "    def find_combinations(remaining_amount, current_combination):\n",
        "        if remaining_amount == 0:\n",
        "            solutions.append(list(current_combination))\n",
        "            return\n",
        "\n",
        "        if remaining_amount < 0:\n",
        "            return\n",
        "\n",
        "        for coin in coins:\n",
        "            if coin <= remaining_amount:\n",
        "                current_combination.append(coin)\n",
        "                find_combinations(remaining_amount - coin, current_combination)\n",
        "                current_combination.pop()\n",
        "\n",
        "    find_combinations(amount, [])\n",
        "\n",
        "    return solutions"
      ],
      "metadata": {
        "id": "kBTxJMIEXwGo"
      },
      "execution_count": 8,
      "outputs": []
    },
    {
      "cell_type": "markdown",
      "source": [
        "## Implementation of Greddy Algorithm"
      ],
      "metadata": {
        "id": "Wzg0DvPtWDPO"
      }
    },
    {
      "cell_type": "code",
      "execution_count": 9,
      "metadata": {
        "id": "zNKQsXmAl8ys"
      },
      "outputs": [],
      "source": [
        "def make_change_greedy(coins, amount):\n",
        "    coins.sort(reverse=True)\n",
        "    change = []\n",
        "\n",
        "    for coin in coins:\n",
        "        while amount >= coin:\n",
        "            change.append(coin)\n",
        "            amount -= coin\n",
        "\n",
        "    return change\n"
      ]
    },
    {
      "cell_type": "markdown",
      "source": [
        "# Implementation of Stop at First Best Solution"
      ],
      "metadata": {
        "id": "KNBTAOqUX9mj"
      }
    },
    {
      "cell_type": "code",
      "source": [
        "def make_change_stop_at_first(coins, amount):\n",
        "    coins.sort(reverse=True)\n",
        "\n",
        "    def find_combination(remaining_amount, current_combination):\n",
        "        if remaining_amount == 0:\n",
        "            return list(current_combination)\n",
        "\n",
        "        if remaining_amount < 0:\n",
        "            return None\n",
        "\n",
        "        for coin in coins:\n",
        "            if coin <= remaining_amount:\n",
        "                current_combination.append(coin)\n",
        "                result = find_combination(remaining_amount - coin, current_combination)\n",
        "                current_combination.pop()\n",
        "                if result is not None:\n",
        "                    return result\n",
        "\n",
        "    return find_combination(amount, [])"
      ],
      "metadata": {
        "id": "pa-nzfPyXsOt"
      },
      "execution_count": 10,
      "outputs": []
    },
    {
      "cell_type": "markdown",
      "source": [
        "## Implementation of Recursive Algorithm"
      ],
      "metadata": {
        "id": "YiJyPl9sYI3f"
      }
    },
    {
      "cell_type": "code",
      "source": [
        "def make_change_recursive(coins, amount):\n",
        "    coins.sort(reverse=True)\n",
        "\n",
        "    def find_combination(remaining_amount):\n",
        "        if remaining_amount == 0:\n",
        "            return []\n",
        "\n",
        "        if remaining_amount < 0:\n",
        "            return None\n",
        "\n",
        "        for coin in coins:\n",
        "            if coin <= remaining_amount:\n",
        "                result = find_combination(remaining_amount - coin)\n",
        "                if result is not None:\n",
        "                    return result + [coin]\n",
        "\n",
        "    return find_combination(amount)"
      ],
      "metadata": {
        "id": "FdYdl5nEX5ME"
      },
      "execution_count": 11,
      "outputs": []
    },
    {
      "cell_type": "markdown",
      "source": [
        "## Implementation of Louage Algorithm"
      ],
      "metadata": {
        "id": "3onbkZ8JYTfY"
      }
    },
    {
      "cell_type": "code",
      "source": [
        "def make_change_louage(coins, amount):\n",
        "    # Convert the amount to cents as an integer\n",
        "    amount = int(amount * 100)\n",
        "\n",
        "    # Initialize a table to store the minimum number of coins for each amount from 0 to amount.\n",
        "    dp = [float('inf')] * (amount + 1)\n",
        "\n",
        "    # Zero coins are needed to make change for 0.\n",
        "    dp[0] = 0\n",
        "\n",
        "    for coin in coins:\n",
        "        for i in range(int(coin * 100), amount + 1):  # Convert coin to cents as an integer\n",
        "            # Update dp[i] if a smaller number of coins is found.\n",
        "            dp[i] = min(dp[i], dp[i - int(coin * 100)] + 1)  # Convert coin to cents as an integer\n",
        "\n",
        "    # Reconstruct the combination of coins.\n",
        "    min_coins = dp[amount]\n",
        "    if min_coins == float('inf'):\n",
        "        return None  # No valid combination found.\n",
        "\n",
        "    combination = []\n",
        "    remaining = amount\n",
        "    while remaining > 0:\n",
        "        for coin in coins:\n",
        "            if remaining >= int(coin * 100) and dp[remaining] == dp[remaining - int(coin * 100)] + 1:\n",
        "                combination.append(coin)\n",
        "                remaining -= int(coin * 100)\n",
        "                break\n",
        "\n",
        "    # Convert the combination back to euros\n",
        "    combination = [x / 100 for x in combination]\n",
        "\n",
        "    return combination"
      ],
      "metadata": {
        "id": "Rugx0-bbYSZZ"
      },
      "execution_count": 12,
      "outputs": []
    },
    {
      "cell_type": "markdown",
      "source": [
        "## Results"
      ],
      "metadata": {
        "id": "PhGAGH4eYY-R"
      }
    },
    {
      "cell_type": "code",
      "execution_count": 13,
      "metadata": {
        "colab": {
          "base_uri": "https://localhost:8080/"
        },
        "id": "VlfqSzNul_Xw",
        "outputId": "0c9934b9-e654-45e6-fe38-a35b442c794d"
      },
      "outputs": [
        {
          "output_type": "stream",
          "name": "stdout",
          "text": [
            "Greedy: [5, 5, 2, 0.2, 0.1]\n",
            "Execution time (Greedy): 0.00010347366333007812 seconds\n",
            "Stop at First Good Solution: [5, 5, 0.5, 0.2, 0.2, 0.2, 0.2, 0.2, 0.2, 0.1, 0.1, 0.1, 0.05, 0.05, 0.05, 0.2]\n",
            "Execution time (Stop at First): 6.125854969024658 seconds\n",
            "Recursive: [0.2, 0.05, 0.05, 0.05, 0.1, 0.1, 0.1, 0.2, 0.2, 0.2, 0.2, 0.2, 0.2, 0.5, 5, 5]\n",
            "Execution time (Recursive): 3.860811233520508 seconds\n",
            "Louage Algorithm: [0.05, 0.05, 0.02, 0.002, 0.001, 0.0005]\n",
            "Execution time (Louage): 0.003229856491088867 seconds\n"
          ]
        }
      ],
      "source": [
        "import time\n",
        "\n",
        "coins = [5, 2, 1, 0.5, 0.2, 0.1, 0.05]\n",
        "amount = 12.35\n",
        "\n",
        "# Execute the Greedy algorithm\n",
        "start_time = time.time()\n",
        "greedy_result = make_change_greedy(coins, amount)\n",
        "end_time = time.time()\n",
        "print(\"Greedy:\", greedy_result)\n",
        "print(\"Execution time (Greedy):\", end_time - start_time, \"seconds\")\n",
        "\n",
        "# Execute the Stop at First Good Solution algorithm\n",
        "start_time = time.time()\n",
        "stop_first_result = make_change_stop_at_first(coins, amount)\n",
        "end_time = time.time()\n",
        "print(\"Stop at First Good Solution:\", stop_first_result)\n",
        "print(\"Execution time (Stop at First):\", end_time - start_time, \"seconds\")\n",
        "\n",
        "# Execute the Recursive algorithm\n",
        "start_time = time.time()\n",
        "recursive_result = make_change_recursive(coins, amount)\n",
        "end_time = time.time()\n",
        "print(\"Recursive:\", recursive_result)\n",
        "print(\"Execution time (Recursive):\", end_time - start_time, \"seconds\")\n",
        "\n",
        "# Execute the Louage Algorithm\n",
        "start_time = time.time()\n",
        "louage_result = make_change_louage(coins, amount)\n",
        "end_time = time.time()\n",
        "print(\"Louage Algorithm:\", louage_result)\n",
        "print(\"Execution time (Louage):\", end_time - start_time, \"seconds\")\n"
      ]
    },
    {
      "cell_type": "markdown",
      "source": [
        "# Implementation of Eight Queens"
      ],
      "metadata": {
        "id": "6UQLZ9x-tnZE"
      }
    },
    {
      "cell_type": "code",
      "source": [
        "from time import perf_counter\n",
        "\n",
        "def queens(n, i, a, b, c):\n",
        "    \"\"\"\n",
        "    Solve the N-Queens problem using a recursive generator.\n",
        "\n",
        "    Parameters:\n",
        "    - n: The size of the chessboard (n x n).\n",
        "    - i: Current row.\n",
        "    - a: List to store the queen placements in each row.\n",
        "    - b: List to store the diagonals from bottom-left to top-right.\n",
        "    - c: List to store the diagonals from top-left to bottom-right.\n",
        "\n",
        "    Yields:\n",
        "    - A list of queen placements for a valid solution.\n",
        "\n",
        "    \"\"\"\n",
        "    if i < n:\n",
        "        for j in range(n):\n",
        "            if j not in a and i+j not in b and i-j not in c:\n",
        "                # Place a queen if it doesn't attack any other queen.\n",
        "                yield from queens(n, i+1, a+[j], b+[i+j], c+[i-j])\n",
        "    else:\n",
        "        # Yield the valid solution.\n",
        "        yield a\n",
        "\n",
        "initial_timestamp = perf_counter()\n",
        "\n",
        "# Find and print solutions for a 6x6 chessboard.\n",
        "for solution in queens(6, 0, [], [], []):\n",
        "    print(solution)\n",
        "\n",
        "final_timestamp = perf_counter()\n",
        "elapsed_time = final_timestamp - initial_timestamp\n",
        "elapsed_time_ms = elapsed_time * 1000\n",
        "\n",
        "print(f'\\nExecution time: {elapsed_time_ms:.7f} milliseconds')"
      ],
      "metadata": {
        "id": "kqXf3icTGrIj",
        "colab": {
          "base_uri": "https://localhost:8080/"
        },
        "outputId": "eed91443-ce60-45c1-fde8-1c6b302c8646"
      },
      "execution_count": 14,
      "outputs": [
        {
          "output_type": "stream",
          "name": "stdout",
          "text": [
            "[1, 3, 5, 0, 2, 4]\n",
            "[2, 5, 1, 4, 0, 3]\n",
            "[3, 0, 4, 1, 5, 2]\n",
            "[4, 2, 0, 5, 3, 1]\n",
            "\n",
            "Execution time: 1.5494450 milliseconds\n"
          ]
        }
      ]
    },
    {
      "cell_type": "markdown",
      "source": [
        "# Implementation of Transitive, not transitive, intransitive"
      ],
      "metadata": {
        "id": "m8DdeRzIvCDg"
      }
    },
    {
      "cell_type": "code",
      "source": [
        "from time import perf_counter\n",
        "\n",
        "def is_transitive(matrix):\n",
        "    \"\"\"\n",
        "    Check if a matrix is transitive.\n",
        "\n",
        "    Parameters:\n",
        "    - matrix: The input matrix to check for transitivity.\n",
        "\n",
        "    Returns:\n",
        "    - A list where the first element is a boolean indicating whether the matrix is transitive.\n",
        "    - The second element is 1 if the matrix is not transitive, 0 otherwise.\n",
        "    \"\"\"\n",
        "    is_transitive = True\n",
        "    cpt = 0\n",
        "    i = 0\n",
        "    j = 0\n",
        "    while i in range(len(matrix) ) and is_transitive:\n",
        "        while j in range(len(matrix)) and is_transitive:\n",
        "            if matrix[i][j] != 0 and i != j:\n",
        "                for k in range(len(matrix)):\n",
        "                    if matrix[j][k] and j != k and i != k:\n",
        "                        is_transitive = is_transitive and matrix[i][k]\n",
        "                        if is_transitive:\n",
        "                            cpt = 1\n",
        "            j += 1\n",
        "        i += 1\n",
        "\n",
        "    return [is_transitive, cpt]\n",
        "\n",
        "initial_timestamp = perf_counter()\n",
        "\n",
        "# Modify the matrix values here\n",
        "matrix = [[1, 1, 0], [0, 0, 1], [0, 1, 1]]\n",
        "\n",
        "result = is_transitive(matrix)\n",
        "\n",
        "if result[0]:\n",
        "    print(\"The matrix is transitive.\")\n",
        "elif result[1] == 0:\n",
        "    print(\"The matrix is intransitive.\")\n",
        "else:\n",
        "    print(\"The matrix is not transitive.\")\n",
        "\n",
        "final_timestamp = perf_counter()\n",
        "elapsed_time = final_timestamp - initial_timestamp\n",
        "elapsed_time_ms = elapsed_time * 1000\n",
        "\n",
        "print(f'\\nExecution time: {elapsed_time_ms:.7f} milliseconds')"
      ],
      "metadata": {
        "colab": {
          "base_uri": "https://localhost:8080/"
        },
        "id": "dWAcU0lzt6ym",
        "outputId": "bfb80d38-1f63-42fd-ebfd-3fbbeb2cbd55"
      },
      "execution_count": 15,
      "outputs": [
        {
          "output_type": "stream",
          "name": "stdout",
          "text": [
            "The matrix is intransitive.\n",
            "\n",
            "Execution time: 1.2217950 milliseconds\n"
          ]
        }
      ]
    },
    {
      "cell_type": "code",
      "source": [],
      "metadata": {
        "id": "V5NcpYX-vez7"
      },
      "execution_count": 15,
      "outputs": []
    }
  ],
  "metadata": {
    "colab": {
      "provenance": [],
      "authorship_tag": "ABX9TyPthHBPaCTwdGVZ6jJI1vgH",
      "include_colab_link": true
    },
    "kernelspec": {
      "display_name": "Python 3",
      "name": "python3"
    },
    "language_info": {
      "name": "python"
    }
  },
  "nbformat": 4,
  "nbformat_minor": 0
}